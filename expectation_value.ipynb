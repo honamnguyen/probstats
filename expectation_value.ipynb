{
 "cells": [
  {
   "cell_type": "code",
   "execution_count": 1,
   "id": "d0385b42-a259-4312-9beb-0f4e6859a3fd",
   "metadata": {},
   "outputs": [],
   "source": [
    "import numpy as np\n",
    "import sympy as sp\n",
    "\n",
    "def solve_expected_number_of_steps(transition_matrix):\n",
    "    P = sp.Matrix(transition_matrix)\n",
    "    N = (sp.eye(P.shape[0]-1) - P[:-1,:-1]).inv()\n",
    "    expected_num_steps = N * sp.ones(N.shape[1], 1)\n",
    "    print(f'Expected # of steps until absorbing state:',expected_num_steps.flat())"
   ]
  },
  {
   "cell_type": "markdown",
   "id": "3326871e-ce05-49f4-8192-74473765f2ca",
   "metadata": {},
   "source": [
    "# Markov Chain\n",
    "## Problem 1\n",
    "A process moves on the integers 1, 2, 3, 4, and 5. It starts at 1 and, on each successive step, moves to an integer greater than its present position, moving with equal probability to each of the remaining larger integers. State five is an absorbing state. Find the expected number of steps to reach state five. "
   ]
  },
  {
   "cell_type": "code",
   "execution_count": 2,
   "id": "440d3f1a-e241-4ba2-8bde-c29cdd03c5d6",
   "metadata": {},
   "outputs": [
    {
     "name": "stdout",
     "output_type": "stream",
     "text": [
      "Expected # of steps until absorbing state: [25/12, 11/6, 3/2, 1]\n"
     ]
    }
   ],
   "source": [
    "tmat = [[0]*1 + [sp.Rational('1/4')]*4,\n",
    "        [0]*2 + [sp.Rational('1/3')]*3,\n",
    "        [0]*3 + [sp.Rational('1/2')]*2,\n",
    "        [0]*4 + [1],\n",
    "        [0]*4 + [1]]\n",
    "solve_expected_number_of_steps(tmat)"
   ]
  },
  {
   "cell_type": "code",
   "execution_count": 3,
   "id": "820d1e5d-75a2-4bcd-97ad-2b4174cfec0c",
   "metadata": {},
   "outputs": [
    {
     "data": {
      "text/latex": [
       "$\\displaystyle \\frac{137}{60}$"
      ],
      "text/plain": [
       "137/60"
      ]
     },
     "execution_count": 3,
     "metadata": {},
     "output_type": "execute_result"
    }
   ],
   "source": [
    "1+sp.Rational('1/2')+sp.Rational('1/3')+sp.Rational('1/4')+sp.Rational('1/5')"
   ]
  },
  {
   "cell_type": "code",
   "execution_count": null,
   "id": "e2929107-bf41-475b-b5d9-7d3febfdebba",
   "metadata": {},
   "outputs": [],
   "source": []
  }
 ],
 "metadata": {
  "kernelspec": {
   "display_name": "mltorch",
   "language": "python",
   "name": "mltorch"
  },
  "language_info": {
   "codemirror_mode": {
    "name": "ipython",
    "version": 3
   },
   "file_extension": ".py",
   "mimetype": "text/x-python",
   "name": "python",
   "nbconvert_exporter": "python",
   "pygments_lexer": "ipython3",
   "version": "3.10.0"
  },
  "toc-autonumbering": true
 },
 "nbformat": 4,
 "nbformat_minor": 5
}
