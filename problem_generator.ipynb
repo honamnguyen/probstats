{
 "cells": [
  {
   "cell_type": "code",
   "execution_count": 2,
   "metadata": {},
   "outputs": [],
   "source": [
    "import numpy as np\n",
    "import sympy as sp"
   ]
  },
  {
   "cell_type": "code",
   "execution_count": 18,
   "metadata": {},
   "outputs": [],
   "source": []
  },
  {
   "cell_type": "code",
   "execution_count": 71,
   "metadata": {},
   "outputs": [],
   "source": [
    "class StringGeneration():\n",
    "    def random_problem(self, kind, size):\n",
    "        if kind == 'dice':\n",
    "            target = ''.join(np.random.choice(['1','2','3','4','5','6'],size=size))\n",
    "        elif kind == 'coin':\n",
    "            target = ''.join(np.random.choice(['H','T'],size=size))\n",
    "            \n",
    "        print(f'\\nWhat is the expected number of steps to get the sequence {target} with a fair {kind}?')\n",
    "        self.solve(kind, target)\n",
    "        \n",
    "    def solve(self, kind, target):\n",
    "        '''\n",
    "        Solve using Absorbing Markov Chain\n",
    "        https://en.wikipedia.org/wiki/Absorbing_Markov_chain\n",
    "        \n",
    "        TO DO:\n",
    "        - Add option for a biased dice/coin\n",
    "        \n",
    "        '''\n",
    "        if kind == 'dice':\n",
    "            outcome_probs = {c:sp.Rational('1/6') for c in ['1','2','3','4','5','6']}\n",
    "        elif kind == 'coin':\n",
    "            outcome_probs = {c:sp.Rational('1/2') for c in ['H','T']}\n",
    "        states = [target[:i] for i in range(len(target)+1)]\n",
    "        num_states = len(states)\n",
    "\n",
    "        # construct transition matrix\n",
    "        transition_matrix = []\n",
    "        # starting from transient states\n",
    "        for start_string in states[:-1]:\n",
    "            probs = [0]*num_states\n",
    "            for outcome, prob in outcome_probs.items():\n",
    "                current_string = start_string + outcome\n",
    "                state_index = 0\n",
    "                for i in range(len(current_string)):\n",
    "                    if current_string[i:] in states:\n",
    "                        state_index = states.index(current_string[i:])\n",
    "                        break\n",
    "                probs[state_index] += prob\n",
    "            transition_matrix.append(probs)\n",
    "        # final row for absorbing state\n",
    "        probs = [0]*num_states\n",
    "        probs[-1] = 1\n",
    "        transition_matrix.append(probs)\n",
    "\n",
    "        # compute transition matrix and the number of expected steps\n",
    "        P = sp.Matrix(transition_matrix)\n",
    "        N = (sp.eye(num_states-1) - P[:-1,:-1]).inv()\n",
    "        expected_num_steps = N * sp.ones(N.shape[1], 1)\n",
    "        print(f'Expected # of steps to get {target}:',expected_num_steps.flat(),'starting from',states[:-1])"
   ]
  },
  {
   "cell_type": "code",
   "execution_count": 72,
   "metadata": {},
   "outputs": [
    {
     "name": "stdout",
     "output_type": "stream",
     "text": [
      "Expected # of steps to get HHH: [14, 12, 8] starting from ['', 'H', 'HH']\n",
      "Expected # of steps to get 66: [42, 36] starting from ['', '6']\n",
      "Expected # of steps to get HTH: [10, 8, 6] starting from ['', 'H', 'HT']\n",
      "\n",
      "What is the expected number of steps to get the sequence TH with a fair coin?\n",
      "Expected # of steps to get TH: [4, 2] starting from ['', 'T']\n"
     ]
    }
   ],
   "source": [
    "SG = StringGeneration()\n",
    "SG.solve('coin','HHH')\n",
    "SG.solve('dice','66')\n",
    "SG.solve('coin','HTH')\n",
    "SG.random_problem('coin',2)"
   ]
  },
  {
   "cell_type": "code",
   "execution_count": null,
   "metadata": {},
   "outputs": [],
   "source": []
  }
 ],
 "metadata": {
  "kernelspec": {
   "display_name": "chem277b",
   "language": "python",
   "name": "chem277b"
  },
  "language_info": {
   "codemirror_mode": {
    "name": "ipython",
    "version": 3
   },
   "file_extension": ".py",
   "mimetype": "text/x-python",
   "name": "python",
   "nbconvert_exporter": "python",
   "pygments_lexer": "ipython3",
   "version": "3.10.13"
  }
 },
 "nbformat": 4,
 "nbformat_minor": 4
}
