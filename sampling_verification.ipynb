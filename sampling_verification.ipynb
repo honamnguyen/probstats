{
 "cells": [
  {
   "cell_type": "code",
   "execution_count": 20,
   "metadata": {},
   "outputs": [],
   "source": [
    "import numpy as np\n",
    "import sympy as sp\n",
    "import matplotlib.pyplot as plt"
   ]
  },
  {
   "cell_type": "markdown",
   "metadata": {},
   "source": [
    "# Conditional Probabilities\n",
    "## Game of craps\n",
    "\n",
    "The game of craps, played with two dice, is one of America’s fastest and most popular gambling games. These are the rules: we throw two dice. If we roll 7 or 11 on the first roll, we win immediately; and if we roll 2, 3, or 12, we lose immediatly. Each of the other value is called a “point”. If the first roll is a point, then we keep rolling until either we roll the same point again and win, or roll a 7 and lose. What is the probability of winning? "
   ]
  },
  {
   "cell_type": "code",
   "execution_count": 52,
   "metadata": {},
   "outputs": [
    {
     "name": "stdout",
     "output_type": "stream",
     "text": [
      "Winning probability with 500000 trials: 0.492878\n",
      "[6, 5, 3, 8, 6] Win\n",
      "[7] Win\n",
      "[8, 10, 8] Win\n",
      "[7] Win\n",
      "[2] Lose\n",
      "[4, 5, 5, 3, 7] Lose\n",
      "[4, 6, 5, 8, 11, 7] Lose\n",
      "[6, 9, 8, 7] Lose\n",
      "[4, 6, 10, 10, 4] Win\n",
      "[6, 9, 5, 11, 10, 6] Win\n",
      "Winning probability with 10 trials: 0.6\n"
     ]
    },
    {
     "data": {
      "text/plain": [
       "0.6"
      ]
     },
     "execution_count": 52,
     "metadata": {},
     "output_type": "execute_result"
    }
   ],
   "source": [
    "def game_of_craps(N=500000, verbose=False):\n",
    "    '''\n",
    "    Parameters\n",
    "    ----------\n",
    "    N : int, default=500000\n",
    "        Number of trials\n",
    "\n",
    "    verbose : bool, default=False\n",
    "        If True, print each roll and whether we win or loss.\n",
    "\n",
    "    Returns\n",
    "    -------\n",
    "    float: estimated winning probability\n",
    "\n",
    "    Notes\n",
    "    -----\n",
    "    The exact probability is 244/495=0.4(92)\n",
    "\n",
    "    '''\n",
    "    wins = []\n",
    "    for _ in range(N):\n",
    "        first_roll = np.random.randint(1,7,size=2).sum()\n",
    "        rolls = [first_roll]\n",
    "        if first_roll in [7,11]:\n",
    "            wins.append(True)\n",
    "        elif first_roll in [2,3,12]:\n",
    "            wins.append(False)\n",
    "        else:\n",
    "            while True:\n",
    "                roll = np.random.randint(1,7,size=2).sum()\n",
    "                rolls.append(roll)\n",
    "                if roll == first_roll:\n",
    "                    wins.append(True)\n",
    "                    break\n",
    "                elif roll == 7:\n",
    "                    wins.append(False)\n",
    "                    break\n",
    "        if verbose: \n",
    "            if wins[-1]:\n",
    "                print(rolls,'Win')\n",
    "            else:\n",
    "                print(rolls,'Lose')\n",
    "    win_prob = sum(wins)/N\n",
    "    print(f'Winning probability with {N} trials: {win_prob}')\n",
    "    return win_prob\n",
    "game_of_craps()\n",
    "game_of_craps(10, True)\n"
   ]
  },
  {
   "cell_type": "code",
   "execution_count": null,
   "metadata": {},
   "outputs": [],
   "source": []
  }
 ],
 "metadata": {
  "kernelspec": {
   "display_name": "mltorch",
   "language": "python",
   "name": "mltorch"
  },
  "language_info": {
   "codemirror_mode": {
    "name": "ipython",
    "version": 3
   },
   "file_extension": ".py",
   "mimetype": "text/x-python",
   "name": "python",
   "nbconvert_exporter": "python",
   "pygments_lexer": "ipython3",
   "version": "3.10.0"
  }
 },
 "nbformat": 4,
 "nbformat_minor": 2
}
